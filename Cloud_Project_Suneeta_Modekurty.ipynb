{
 "cells": [
  {
   "cell_type": "markdown",
   "metadata": {},
   "source": [
    "## Project"
   ]
  },
  {
   "cell_type": "markdown",
   "metadata": {},
   "source": [
    "## Data Munching, Manipulation, and Machine Learning using PySpark."
   ]
  },
  {
   "cell_type": "markdown",
   "metadata": {},
   "source": [
    "# 1. Problem: To understand the interrelationship between Alzheimer's Disease and Type 2 Diabetes "
   ]
  },
  {
   "cell_type": "markdown",
   "metadata": {},
   "source": [
    "# 1.2 Importing the required libraries "
   ]
  },
  {
   "cell_type": "code",
   "execution_count": 1,
   "metadata": {},
   "outputs": [],
   "source": [
    "import findspark\n",
    "findspark.init()\n",
    "import pyspark # Call this only after findspark.init()\n",
    "from pyspark.context import SparkContext\n",
    "from pyspark.sql.session import SparkSession\n",
    "\n",
    "sc = SparkContext.getOrCreate()\n",
    "spark = SparkSession(sc)\n",
    "from pyspark.sql import Row\n",
    "from pyspark.sql.types import *\n",
    "from pyspark.sql.functions import sum\n",
    "import pandas as pd\n",
    "import numpy as np\n",
    "import matplotlib.pyplot as plt\n",
    "from pyspark.sql.functions import rank, col, unix_timestamp, from_unixtime, to_timestamp\n",
    "from pyspark.sql import functions as F\n",
    "import seaborn as sns\n",
    "timeFmt = \"yyyy-MM-dd\"\n",
    "from pyspark.sql.functions import *"
   ]
  },
  {
   "cell_type": "markdown",
   "metadata": {},
   "source": [
    "# 1.3 Reading MIMIC data"
   ]
  },
  {
   "cell_type": "code",
   "execution_count": 2,
   "metadata": {},
   "outputs": [
    {
     "name": "stdout",
     "output_type": "stream",
     "text": [
      "+---------+---+-------+-----+-----+------+-----+------+-------------------+----------+----------+---------+---------+-------------------+----------+-----------+\n",
      "|person_id|age|paramCT|gpiCT|ndcCT|ahfsCT|medCT|gender|         birth_date|F_T2D_Diag|F_T1D_Diag|F_LD_Diag|F_KD_Diag|         F_CVD_Diag|F_ALZ_Diag|F_ALZD_Diag|\n",
      "+---------+---+-------+-----+-----+------+-----+------+-------------------+----------+----------+---------+---------+-------------------+----------+-----------+\n",
      "|      148| 78|   1815|  224|  224|   224|  224|     F|2029-07-11 00:00:00|      null|      null|     null|     null|2107-09-05 14:58:00|      null|       null|\n",
      "|      463| 62|    121|   13|   13|    13|   13|     F|2136-09-25 00:00:00|      null|      null|     null|     null|               null|      null|       null|\n",
      "|      471| 75|    548|   72|   72|    72|   72|     F|2046-08-30 00:00:00|      null|      null|     null|     null|2122-07-22 14:04:00|      null|       null|\n",
      "|      833|  0|     34|    2|    2|     2|    2|     M|2137-05-23 00:00:00|      null|      null|     null|     null|               null|      null|       null|\n",
      "|     1088| 68|    663|  107|  107|   107|  107|     M|2102-03-05 00:00:00|      null|      null|     null|     null|2170-03-22 05:20:00|      null|       null|\n",
      "+---------+---+-------+-----+-----+------+-----+------+-------------------+----------+----------+---------+---------+-------------------+----------+-----------+\n",
      "only showing top 5 rows\n",
      "\n"
     ]
    }
   ],
   "source": [
    "\n",
    "df = spark.read.csv(\"mimic_master.csv\", header='true', inferSchema='true')\n",
    "df.show(5)"
   ]
  },
  {
   "cell_type": "markdown",
   "metadata": {},
   "source": [
    "## 1.4 Exploring the dataset"
   ]
  },
  {
   "cell_type": "code",
   "execution_count": 3,
   "metadata": {},
   "outputs": [
    {
     "name": "stdout",
     "output_type": "stream",
     "text": [
      "(52643, 16)\n"
     ]
    }
   ],
   "source": [
    "#count row and column \n",
    "print((df.count(), len(df.columns)))"
   ]
  },
  {
   "cell_type": "code",
   "execution_count": 4,
   "metadata": {
    "scrolled": true
   },
   "outputs": [
    {
     "name": "stdout",
     "output_type": "stream",
     "text": [
      "root\n",
      " |-- person_id: integer (nullable = true)\n",
      " |-- age: integer (nullable = true)\n",
      " |-- paramCT: integer (nullable = true)\n",
      " |-- gpiCT: integer (nullable = true)\n",
      " |-- ndcCT: integer (nullable = true)\n",
      " |-- ahfsCT: integer (nullable = true)\n",
      " |-- medCT: integer (nullable = true)\n",
      " |-- gender: string (nullable = true)\n",
      " |-- birth_date: timestamp (nullable = true)\n",
      " |-- F_T2D_Diag: timestamp (nullable = true)\n",
      " |-- F_T1D_Diag: timestamp (nullable = true)\n",
      " |-- F_LD_Diag: timestamp (nullable = true)\n",
      " |-- F_KD_Diag: timestamp (nullable = true)\n",
      " |-- F_CVD_Diag: timestamp (nullable = true)\n",
      " |-- F_ALZ_Diag: timestamp (nullable = true)\n",
      " |-- F_ALZD_Diag: timestamp (nullable = true)\n",
      "\n"
     ]
    }
   ],
   "source": [
    "df.printSchema()"
   ]
  },
  {
   "cell_type": "markdown",
   "metadata": {},
   "source": [
    "## 1.5 Selection of Columns"
   ]
  },
  {
   "cell_type": "code",
   "execution_count": 5,
   "metadata": {},
   "outputs": [],
   "source": [
    "#Certain selected columns as required\n",
    "df1 = df.select('person_id','age','gender','birth_date','F_T2D_Diag','F_ALZ_Diag','F_ALZD_Diag')"
   ]
  },
  {
   "cell_type": "code",
   "execution_count": null,
   "metadata": {},
   "outputs": [],
   "source": []
  },
  {
   "cell_type": "code",
   "execution_count": 6,
   "metadata": {},
   "outputs": [
    {
     "name": "stdout",
     "output_type": "stream",
     "text": [
      "+---------+---+------+-------------------+-------------------+----------+-----------+\n",
      "|person_id|age|gender|         birth_date|         F_T2D_Diag|F_ALZ_Diag|F_ALZD_Diag|\n",
      "+---------+---+------+-------------------+-------------------+----------+-----------+\n",
      "|      148| 78|     F|2029-07-11 00:00:00|               null|      null|       null|\n",
      "|      463| 62|     F|2136-09-25 00:00:00|               null|      null|       null|\n",
      "|      471| 75|     F|2046-08-30 00:00:00|               null|      null|       null|\n",
      "|      833|  0|     M|2137-05-23 00:00:00|               null|      null|       null|\n",
      "|     1088| 68|     M|2102-03-05 00:00:00|               null|      null|       null|\n",
      "|     1238|  0|     F|2197-03-27 00:00:00|               null|      null|       null|\n",
      "|     1342| 72|     F|2034-03-20 00:00:00|               null|      null|       null|\n",
      "|     1580| 44|     F|2081-05-14 00:00:00|               null|      null|       null|\n",
      "|     1591|  0|     M|2106-04-01 00:00:00|               null|      null|       null|\n",
      "|     1645| 43|     F|2103-09-22 00:00:00|               null|      null|       null|\n",
      "|     1829| 53|     M|2133-06-23 00:00:00|2187-04-17 14:00:00|      null|       null|\n",
      "|     1959|  0|     F|2147-03-24 00:00:00|               null|      null|       null|\n",
      "|     2122| 33|     M|2124-11-23 00:00:00|               null|      null|       null|\n",
      "|     2142|  0|     M|2171-05-11 00:00:00|               null|      null|       null|\n",
      "|     2366| 36|     F|2113-08-18 00:00:00|               null|      null|       null|\n",
      "|     2659| 18|     M|2154-02-24 00:00:00|               null|      null|       null|\n",
      "|     3175| 32|     F|2105-05-30 00:00:00|               null|      null|       null|\n",
      "|     3794| 77|     F|2029-09-30 00:00:00|               null|      null|       null|\n",
      "|     3918| 62|     M|2119-03-06 00:00:00|               null|      null|       null|\n",
      "|     3997| 62|     M|2042-12-07 00:00:00|               null|      null|       null|\n",
      "+---------+---+------+-------------------+-------------------+----------+-----------+\n",
      "only showing top 20 rows\n",
      "\n"
     ]
    }
   ],
   "source": [
    "df1.show()"
   ]
  },
  {
   "cell_type": "code",
   "execution_count": 7,
   "metadata": {},
   "outputs": [
    {
     "data": {
      "text/plain": [
       "pyspark.sql.dataframe.DataFrame"
      ]
     },
     "execution_count": 7,
     "metadata": {},
     "output_type": "execute_result"
    }
   ],
   "source": [
    "type(df1)"
   ]
  },
  {
   "cell_type": "code",
   "execution_count": 8,
   "metadata": {},
   "outputs": [
    {
     "name": "stdout",
     "output_type": "stream",
     "text": [
      "(52643, 7)\n"
     ]
    }
   ],
   "source": [
    "# Number of Rows and Columns in the sub dataset\n",
    "print((df1.count(), len(df1.columns)))"
   ]
  },
  {
   "cell_type": "code",
   "execution_count": 9,
   "metadata": {},
   "outputs": [
    {
     "name": "stdout",
     "output_type": "stream",
     "text": [
      "root\n",
      " |-- person_id: integer (nullable = true)\n",
      " |-- age: integer (nullable = true)\n",
      " |-- gender: string (nullable = true)\n",
      " |-- birth_date: timestamp (nullable = true)\n",
      " |-- F_T2D_Diag: timestamp (nullable = true)\n",
      " |-- F_ALZ_Diag: timestamp (nullable = true)\n",
      " |-- F_ALZD_Diag: timestamp (nullable = true)\n",
      "\n"
     ]
    }
   ],
   "source": [
    "# Printing the schema of the dataset\n",
    "df1.printSchema()"
   ]
  },
  {
   "cell_type": "code",
   "execution_count": 10,
   "metadata": {},
   "outputs": [
    {
     "data": {
      "text/plain": [
       "['person_id',\n",
       " 'age',\n",
       " 'gender',\n",
       " 'birth_date',\n",
       " 'F_T2D_Diag',\n",
       " 'F_ALZ_Diag',\n",
       " 'F_ALZD_Diag']"
      ]
     },
     "execution_count": 10,
     "metadata": {},
     "output_type": "execute_result"
    }
   ],
   "source": [
    "df1.columns"
   ]
  },
  {
   "cell_type": "code",
   "execution_count": 11,
   "metadata": {},
   "outputs": [
    {
     "name": "stdout",
     "output_type": "stream",
     "text": [
      "+------+-----+\n",
      "|gender|count|\n",
      "+------+-----+\n",
      "|     F|23184|\n",
      "|     M|29459|\n",
      "+------+-----+\n",
      "\n"
     ]
    }
   ],
   "source": [
    "df1.groupby([\"gender\"]).count().show()"
   ]
  },
  {
   "cell_type": "markdown",
   "metadata": {},
   "source": [
    "# 2. Creating cohorts"
   ]
  },
  {
   "cell_type": "code",
   "execution_count": 12,
   "metadata": {},
   "outputs": [
    {
     "name": "stdout",
     "output_type": "stream",
     "text": [
      "Number of records before filter:  52643\n"
     ]
    },
    {
     "data": {
      "text/plain": [
       "7874"
      ]
     },
     "execution_count": 12,
     "metadata": {},
     "output_type": "execute_result"
    }
   ],
   "source": [
    "print(\"Number of records before filter: \", df1.count())\n",
    "df1.where(F.col(\"age\")==0).count()"
   ]
  },
  {
   "cell_type": "markdown",
   "metadata": {},
   "source": [
    "# 2.1 Imputing age-0 with current date - date of birth\n"
   ]
  },
  {
   "cell_type": "code",
   "execution_count": 13,
   "metadata": {},
   "outputs": [
    {
     "data": {
      "text/plain": [
       "44769"
      ]
     },
     "execution_count": 13,
     "metadata": {},
     "output_type": "execute_result"
    }
   ],
   "source": [
    "df1 = df1.withColumn(\"dummmy_age\", ((F.current_timestamp().cast(\"long\") - F.col(\"birth_date\").cast(\"long\"))/365)\\\n",
    "                                            .cast('int'))\n",
    "\n",
    "df1 = df1.withColumn(\"age\", F.when(F.col('age') == 0, F.col('dummmy_age')).otherwise(F.col('age')))\n",
    "\n",
    "# if age is still 0 remove those records\n",
    "df1 = df1.where((F.col(\"age\")>0) & (F.col(\"age\").isNull() == False) & (F.isnan(F.col(\"age\")) == False))\n",
    "df1.count()"
   ]
  },
  {
   "cell_type": "code",
   "execution_count": 14,
   "metadata": {},
   "outputs": [
    {
     "data": {
      "text/plain": [
       "42496"
      ]
     },
     "execution_count": 14,
     "metadata": {},
     "output_type": "execute_result"
    }
   ],
   "source": [
    "#  Filtering invalid dates as age with 300 or more found in the dataset \n",
    "df1 = df1.filter(df1.age <=110)\n",
    "df1.count()"
   ]
  },
  {
   "cell_type": "markdown",
   "metadata": {},
   "source": [
    "# 2.2 Create T2D_ONLY based on Age &  F_T2D_Diag\n"
   ]
  },
  {
   "cell_type": "code",
   "execution_count": 15,
   "metadata": {},
   "outputs": [],
   "source": [
    "Age_T2D_diag =F.round((F.col(\"F_T2D_Diag\").cast(\"long\") - F.col(\"birth_date\").cast(\"long\"))/(365*60*60*24), 3)\n",
    "Age_AD_diag =F.round((F.col(\"F_ALZ_Diag\").cast(\"long\") - F.col(\"birth_date\").cast(\"long\"))/(365*60*60*24), 3)\n",
    "Age_T2DAD_both_diag=F.round((F.col(\"F_T2D_Diag\").cast(\"long\") - F.col(\"F_ALZ_Diag\").cast(\"long\"))/(365*60*60*24), 3)\n",
    "Age_DEM_diag=F.round((F.col(\"F_ALZD_Diag\").cast(\"long\") - F.col(\"F_ALZ_Diag\").cast(\"long\"))/(365*60*60*24), 3)\n",
    "Age_T2DDEM_both_diag=F.round((F.col(\"F_T2D_Diag\").cast(\"long\") - F.col(\"F_ALZD_Diag\").cast(\"long\"))/(365*60*60*24), 3)"
   ]
  },
  {
   "cell_type": "code",
   "execution_count": 16,
   "metadata": {},
   "outputs": [
    {
     "name": "stdout",
     "output_type": "stream",
     "text": [
      "+---------+---+------+-------------------+----------+----------+-----------+----------+\n",
      "|person_id|age|gender|         birth_date|F_T2D_Diag|F_ALZ_Diag|F_ALZD_Diag|dummmy_age|\n",
      "+---------+---+------+-------------------+----------+----------+-----------+----------+\n",
      "|      148| 78|     F|2029-07-11 00:00:00|      null|      null|       null|   -748527|\n",
      "|      463| 62|     F|2136-09-25 00:00:00|      null|      null|       null| -10017471|\n",
      "|      471| 75|     F|2046-08-30 00:00:00|      null|      null|       null|  -2230109|\n",
      "+---------+---+------+-------------------+----------+----------+-----------+----------+\n",
      "only showing top 3 rows\n",
      "\n"
     ]
    }
   ],
   "source": [
    "df1.show(3)"
   ]
  },
  {
   "cell_type": "code",
   "execution_count": 17,
   "metadata": {},
   "outputs": [
    {
     "data": {
      "text/plain": [
       "['person_id',\n",
       " 'age',\n",
       " 'gender',\n",
       " 'birth_date',\n",
       " 'F_T2D_Diag',\n",
       " 'F_ALZ_Diag',\n",
       " 'F_ALZD_Diag',\n",
       " 'dummmy_age']"
      ]
     },
     "execution_count": 17,
     "metadata": {},
     "output_type": "execute_result"
    }
   ],
   "source": [
    "df1.columns"
   ]
  },
  {
   "cell_type": "code",
   "execution_count": 18,
   "metadata": {},
   "outputs": [],
   "source": [
    "df1 = df1.withColumn(\"T2D_ONLY\",Age_T2D_diag).withColumn(\"AD_ONLY\",Age_AD_diag).withColumn(\"BOTH_T2D_AD\"\\\n",
    ",Age_T2DAD_both_diag).withColumn(\"DEM_ONLY\",Age_DEM_diag).withColumn(\"BOTH_AD_DEM\",Age_T2DDEM_both_diag)"
   ]
  },
  {
   "cell_type": "markdown",
   "metadata": {},
   "source": [
    "## 3. Checking and handling of missing data"
   ]
  },
  {
   "cell_type": "code",
   "execution_count": 19,
   "metadata": {},
   "outputs": [
    {
     "name": "stdout",
     "output_type": "stream",
     "text": [
      "+---------+---+------+-------------------+-------------------+----------+-----------+----------+--------+-------+-----------+--------+-----------+\n",
      "|person_id|age|gender|         birth_date|         F_T2D_Diag|F_ALZ_Diag|F_ALZD_Diag|dummmy_age|T2D_ONLY|AD_ONLY|BOTH_T2D_AD|DEM_ONLY|BOTH_AD_DEM|\n",
      "+---------+---+------+-------------------+-------------------+----------+-----------+----------+--------+-------+-----------+--------+-----------+\n",
      "|      148| 78|     F|2029-07-11 00:00:00|               null|      null|       null|   -748527|    null|   null|       null|    null|       null|\n",
      "|      463| 62|     F|2136-09-25 00:00:00|               null|      null|       null| -10017471|    null|   null|       null|    null|       null|\n",
      "|      471| 75|     F|2046-08-30 00:00:00|               null|      null|       null|  -2230109|    null|   null|       null|    null|       null|\n",
      "|     1088| 68|     M|2102-03-05 00:00:00|               null|      null|       null|  -7029462|    null|   null|       null|    null|       null|\n",
      "|     1342| 72|     F|2034-03-20 00:00:00|               null|      null|       null|  -1154015|    null|   null|       null|    null|       null|\n",
      "|     1580| 44|     F|2081-05-14 00:00:00|               null|      null|       null|  -5230675|    null|   null|       null|    null|       null|\n",
      "|     1645| 43|     F|2103-09-22 00:00:00|               null|      null|       null|  -7163431|    null|   null|       null|    null|       null|\n",
      "|     1829| 53|     M|2133-06-23 00:00:00|2187-04-17 14:00:00|      null|       null|  -9735784|  53.854|   null|       null|    null|       null|\n",
      "|     2122| 33|     M|2124-11-23 00:00:00|               null|      null|       null|  -8993937|    null|   null|       null|    null|       null|\n",
      "|     2366| 36|     F|2113-08-18 00:00:00|               null|      null|       null|  -8019856|    null|   null|       null|    null|       null|\n",
      "|     2659| 18|     M|2154-02-24 00:00:00|               null|      null|       null| -11523208|    null|   null|       null|    null|       null|\n",
      "|     3175| 32|     F|2105-05-30 00:00:00|               null|      null|       null|  -7309246|    null|   null|       null|    null|       null|\n",
      "|     3794| 77|     F|2029-09-30 00:00:00|               null|      null|       null|   -767700|    null|   null|       null|    null|       null|\n",
      "|     3918| 62|     M|2119-03-06 00:00:00|               null|      null|       null|  -8499445|    null|   null|       null|    null|       null|\n",
      "|     3997| 62|     M|2042-12-07 00:00:00|               null|      null|       null|  -1907717|    null|   null|       null|    null|       null|\n",
      "|     4101| 63|     M|2042-10-12 00:00:00|2103-01-22 18:01:00|      null|       null|  -1894451|   60.32|   null|       null|    null|       null|\n",
      "|     4101| 60|     M|2042-10-12 00:00:00|2103-01-22 18:01:00|      null|       null|  -1894451|   60.32|   null|       null|    null|       null|\n",
      "|     4900| 70|     M|2133-02-23 00:00:00|2193-04-17 08:00:00|      null|       null|  -9707388|  60.187|   null|       null|    null|       null|\n",
      "|     4900| 60|     M|2133-02-23 00:00:00|2193-04-17 08:00:00|      null|       null|  -9707388|  60.187|   null|       null|    null|       null|\n",
      "|     4935| 62|     M|2056-08-17 00:00:00|2119-01-19 21:11:00|      null|       null|  -3091742|  62.466|   null|       null|    null|       null|\n",
      "+---------+---+------+-------------------+-------------------+----------+-----------+----------+--------+-------+-----------+--------+-----------+\n",
      "only showing top 20 rows\n",
      "\n"
     ]
    }
   ],
   "source": [
    "df1.show()"
   ]
  },
  {
   "cell_type": "markdown",
   "metadata": {},
   "source": [
    "# 3.1 Selecting certain selected columns as required\n"
   ]
  },
  {
   "cell_type": "code",
   "execution_count": 20,
   "metadata": {},
   "outputs": [
    {
     "name": "stdout",
     "output_type": "stream",
     "text": [
      "+---------+---+------+--------+-------+\n",
      "|person_id|age|gender|T2D_ONLY|AD_ONLY|\n",
      "+---------+---+------+--------+-------+\n",
      "|      148| 78|     F|    null|   null|\n",
      "|      463| 62|     F|    null|   null|\n",
      "+---------+---+------+--------+-------+\n",
      "only showing top 2 rows\n",
      "\n"
     ]
    }
   ],
   "source": [
    "df1 = df1.select('person_id','age','gender','T2D_ONLY','AD_ONLY')\n",
    "df1.show(2)"
   ]
  },
  {
   "cell_type": "code",
   "execution_count": 21,
   "metadata": {},
   "outputs": [
    {
     "name": "stdout",
     "output_type": "stream",
     "text": [
      "+---------+---+------+--------+-------+\n",
      "|person_id|age|gender|T2D_ONLY|AD_ONLY|\n",
      "+---------+---+------+--------+-------+\n",
      "|        0|  0|     0|   30821|  42041|\n",
      "+---------+---+------+--------+-------+\n",
      "\n"
     ]
    }
   ],
   "source": [
    "from pyspark.sql.functions import isnan, when, count, col\n",
    "df1.select([count(when(isnan(c) | col(c).isNull(), c)).alias(c) for c in df1.columns]).show()"
   ]
  },
  {
   "cell_type": "code",
   "execution_count": 22,
   "metadata": {},
   "outputs": [
    {
     "data": {
      "text/plain": [
       "42041"
      ]
     },
     "execution_count": 22,
     "metadata": {},
     "output_type": "execute_result"
    }
   ],
   "source": [
    "df1.where((F.col('AD_ONLY').isNull()) | (F.isnan(F.col(\"AD_ONLY\")))).count()"
   ]
  },
  {
   "cell_type": "code",
   "execution_count": 23,
   "metadata": {},
   "outputs": [
    {
     "data": {
      "text/plain": [
       "42496"
      ]
     },
     "execution_count": 23,
     "metadata": {},
     "output_type": "execute_result"
    }
   ],
   "source": [
    "df1.count()"
   ]
  },
  {
   "cell_type": "markdown",
   "metadata": {},
   "source": [
    "## 4. Imputation of mean in selected null columns"
   ]
  },
  {
   "cell_type": "code",
   "execution_count": 24,
   "metadata": {},
   "outputs": [],
   "source": [
    "# columns = ['DEM_ONLY'] # T2D_ONLY\n",
    "# for _col in columns:\n",
    "#     df_final = df_final.withColumn(_col, F.coalesce(F.col(_col), F.col(\"age\")))"
   ]
  },
  {
   "cell_type": "code",
   "execution_count": 25,
   "metadata": {},
   "outputs": [],
   "source": [
    "df_final = df1.withColumn(\"T2D_ONLY\", F.when(F.col(\"T2D_ONLY\").isNull() == False, F.lit(1)).otherwise(F.lit(0)))"
   ]
  },
  {
   "cell_type": "code",
   "execution_count": 26,
   "metadata": {},
   "outputs": [
    {
     "name": "stdout",
     "output_type": "stream",
     "text": [
      "+---------+---+------+--------+-------+\n",
      "|person_id|age|gender|T2D_ONLY|AD_ONLY|\n",
      "+---------+---+------+--------+-------+\n",
      "|      148| 78|     F|       0|   null|\n",
      "|      463| 62|     F|       0|   null|\n",
      "|      471| 75|     F|       0|   null|\n",
      "|     1088| 68|     M|       0|   null|\n",
      "|     1342| 72|     F|       0|   null|\n",
      "+---------+---+------+--------+-------+\n",
      "only showing top 5 rows\n",
      "\n"
     ]
    }
   ],
   "source": [
    "df_final.show(5)"
   ]
  },
  {
   "cell_type": "code",
   "execution_count": 27,
   "metadata": {},
   "outputs": [
    {
     "name": "stdout",
     "output_type": "stream",
     "text": [
      "+---------+---+------+--------+-------+\n",
      "|person_id|age|gender|T2D_ONLY|AD_ONLY|\n",
      "+---------+---+------+--------+-------+\n",
      "|        0|  0|     0|       0|  42041|\n",
      "+---------+---+------+--------+-------+\n",
      "\n"
     ]
    }
   ],
   "source": [
    "df_final.select([count(when(isnan(c) | col(c).isNull(), c)).alias(c) for c in df_final.columns]).show()"
   ]
  },
  {
   "cell_type": "code",
   "execution_count": 28,
   "metadata": {},
   "outputs": [
    {
     "name": "stdout",
     "output_type": "stream",
     "text": [
      "+------+-----+\n",
      "|gender|count|\n",
      "+------+-----+\n",
      "|     F|18104|\n",
      "|     M|24392|\n",
      "+------+-----+\n",
      "\n"
     ]
    }
   ],
   "source": [
    "df_final.groupby([\"gender\"]).count().show()"
   ]
  },
  {
   "cell_type": "code",
   "execution_count": 29,
   "metadata": {},
   "outputs": [
    {
     "name": "stdout",
     "output_type": "stream",
     "text": [
      "+---------------+-----+-----+\n",
      "|T2D_ONLY_gender|    F|    M|\n",
      "+---------------+-----+-----+\n",
      "|              1| 4925| 6750|\n",
      "|              0|13179|17642|\n",
      "+---------------+-----+-----+\n",
      "\n"
     ]
    }
   ],
   "source": [
    "df_final.crosstab('T2D_ONLY', 'gender').show()"
   ]
  },
  {
   "cell_type": "markdown",
   "metadata": {},
   "source": [
    "## 5. Create target variable"
   ]
  },
  {
   "cell_type": "code",
   "execution_count": 30,
   "metadata": {},
   "outputs": [],
   "source": [
    "df_final = df_final.withColumn(\"AD_ONLY\", F.when(F.col(\"AD_ONLY\").isNull() == False, F.lit(1)).otherwise(F.lit(0)))"
   ]
  },
  {
   "cell_type": "markdown",
   "metadata": {},
   "source": [
    "## 5.1 keep only required columns"
   ]
  },
  {
   "cell_type": "code",
   "execution_count": 31,
   "metadata": {},
   "outputs": [
    {
     "name": "stdout",
     "output_type": "stream",
     "text": [
      "+-------+--------+---+------+---------+\n",
      "|AD_ONLY|T2D_ONLY|age|gender|person_id|\n",
      "+-------+--------+---+------+---------+\n",
      "|0      |0       |78 |F     |148      |\n",
      "|0      |0       |62 |F     |463      |\n",
      "|0      |0       |75 |F     |471      |\n",
      "|0      |0       |68 |M     |1088     |\n",
      "|0      |0       |72 |F     |1342     |\n",
      "+-------+--------+---+------+---------+\n",
      "only showing top 5 rows\n",
      "\n"
     ]
    }
   ],
   "source": [
    "df_final = df_final.select(\"AD_ONLY\", 'T2D_ONLY', 'age', 'gender', 'person_id')\n",
    "df_final.show(5, False)"
   ]
  },
  {
   "cell_type": "markdown",
   "metadata": {},
   "source": [
    "# 6. FEATURE ENGINEERING"
   ]
  },
  {
   "cell_type": "code",
   "execution_count": 32,
   "metadata": {},
   "outputs": [],
   "source": [
    "from pyspark.ml import Pipeline\n",
    "from pyspark.ml.feature import OneHotEncoder, StringIndexer, VectorAssembler"
   ]
  },
  {
   "cell_type": "code",
   "execution_count": 33,
   "metadata": {},
   "outputs": [
    {
     "name": "stdout",
     "output_type": "stream",
     "text": [
      "+-------+--------+---+------+---------+\n",
      "|AD_ONLY|T2D_ONLY|age|gender|person_id|\n",
      "+-------+--------+---+------+---------+\n",
      "|0      |0       |78 |F     |148      |\n",
      "|0      |0       |62 |F     |463      |\n",
      "+-------+--------+---+------+---------+\n",
      "only showing top 2 rows\n",
      "\n"
     ]
    }
   ],
   "source": [
    "df_final.show(2, False)"
   ]
  },
  {
   "cell_type": "markdown",
   "metadata": {},
   "source": [
    "## 7. Resample Data to increase the % records of Minority class (1 - has ALZ Disease)"
   ]
  },
  {
   "cell_type": "markdown",
   "metadata": {},
   "source": [
    "### 7.1 Downsampling the Majority class"
   ]
  },
  {
   "cell_type": "code",
   "execution_count": 34,
   "metadata": {},
   "outputs": [
    {
     "name": "stdout",
     "output_type": "stream",
     "text": [
      "initially records count:  42041\n"
     ]
    },
    {
     "data": {
      "text/plain": [
       "21124"
      ]
     },
     "execution_count": 34,
     "metadata": {},
     "output_type": "execute_result"
    }
   ],
   "source": [
    "print(\"initially records count: \", df_final.where(F.col(\"AD_ONLY\") == 0).count())\n",
    "down_sampling = df_final.where(F.col(\"AD_ONLY\") == 0).sample(False, 0.5, seed=42)\n",
    "down_sampling.count()"
   ]
  },
  {
   "cell_type": "markdown",
   "metadata": {},
   "source": [
    "### 7.2 Upsample the Minority Class"
   ]
  },
  {
   "cell_type": "code",
   "execution_count": 35,
   "metadata": {},
   "outputs": [
    {
     "name": "stdout",
     "output_type": "stream",
     "text": [
      "455\n"
     ]
    },
    {
     "data": {
      "text/plain": [
       "5005"
      ]
     },
     "execution_count": 35,
     "metadata": {},
     "output_type": "execute_result"
    }
   ],
   "source": [
    "print(df_final.where(F.col(\"AD_ONLY\") == 1).count())\n",
    "up_sampling = df_final.where(F.col(\"AD_ONLY\") == 1)\n",
    "for i in range(10):\n",
    "    up_sampling = up_sampling.unionAll(df_final.where(F.col(\"AD_ONLY\") == 1))\n",
    "up_sampling.count()"
   ]
  },
  {
   "cell_type": "code",
   "execution_count": 36,
   "metadata": {},
   "outputs": [
    {
     "name": "stdout",
     "output_type": "stream",
     "text": [
      "Minority to Majority class ratio:  0.23693429274758568\n"
     ]
    }
   ],
   "source": [
    "print(\"Minority to Majority class ratio: \", up_sampling.count()/down_sampling.count())"
   ]
  },
  {
   "cell_type": "markdown",
   "metadata": {},
   "source": [
    "### 7.3 Combine the minority and mojority class sampled data"
   ]
  },
  {
   "cell_type": "code",
   "execution_count": 37,
   "metadata": {},
   "outputs": [
    {
     "data": {
      "text/plain": [
       "26129"
      ]
     },
     "execution_count": 37,
     "metadata": {},
     "output_type": "execute_result"
    }
   ],
   "source": [
    "resampled_data = up_sampling.unionAll(down_sampling)\n",
    "resampled_data.count()"
   ]
  },
  {
   "cell_type": "markdown",
   "metadata": {},
   "source": [
    "### 8. Split into training and test datasets"
   ]
  },
  {
   "cell_type": "code",
   "execution_count": 38,
   "metadata": {},
   "outputs": [
    {
     "name": "stdout",
     "output_type": "stream",
     "text": [
      "Training Dataset Count: 18298\n",
      "Test Dataset Count: 7831\n"
     ]
    }
   ],
   "source": [
    "train, test = resampled_data.randomSplit([0.7, 0.3], seed = 4000)\n",
    "print(\"Training Dataset Count: \" + str(train.count()))\n",
    "print(\"Test Dataset Count: \" + str(test.count()))"
   ]
  },
  {
   "cell_type": "markdown",
   "metadata": {},
   "source": [
    "## 9. Apply Transformations on the data"
   ]
  },
  {
   "cell_type": "code",
   "execution_count": 39,
   "metadata": {},
   "outputs": [],
   "source": [
    "categoricalColumns = ['gender'] # person_id\n",
    "stages = []\n",
    "\n",
    "for categoricalCol in categoricalColumns:\n",
    "    stringIndexer = StringIndexer(inputCol = categoricalCol, outputCol = categoricalCol + 'Index')\n",
    "    encoder = OneHotEncoder(inputCols=[stringIndexer.getOutputCol()], outputCols=[categoricalCol + \"classVec\"])\n",
    "    stages += [stringIndexer, encoder]\n",
    "\n",
    "label_stringIdx = StringIndexer(inputCol = 'AD_ONLY', outputCol = 'label')\n",
    "stages += [label_stringIdx]\n",
    "\n",
    "numericCols = ['age', 'T2D_ONLY'] # , 'DEM_ONLY'\n",
    "assemblerInputs = [c + \"classVec\" for c in categoricalColumns] + numericCols\n",
    "assembler = VectorAssembler(inputCols=assemblerInputs, outputCol=\"features\")\n",
    "stages += [assembler]"
   ]
  },
  {
   "cell_type": "code",
   "execution_count": 40,
   "metadata": {},
   "outputs": [],
   "source": [
    "pipeline = Pipeline(stages = stages)\n",
    "\n",
    "# fit pipeline in train data\n",
    "pipelineModel = pipeline.fit(train)\n",
    "\n",
    "# transform train data\n",
    "train = pipelineModel.transform(train)\n",
    "\n",
    "# transform test data\n",
    "test = pipelineModel.transform(test)"
   ]
  },
  {
   "cell_type": "markdown",
   "metadata": {},
   "source": [
    "# 10. MACHINE LEARNING USING SPARK ML ON THE PIPELINED MODEL"
   ]
  },
  {
   "cell_type": "code",
   "execution_count": 41,
   "metadata": {},
   "outputs": [],
   "source": [
    "from pyspark.ml.evaluation import BinaryClassificationEvaluator\n",
    "from sklearn.metrics import classification_report\n",
    "import sklearn.metrics as metrics\n",
    "import matplotlib.pyplot as plt\n",
    "\n",
    "from pyspark.ml.classification import LogisticRegression\n",
    "from pyspark.ml.classification import DecisionTreeClassifier\n",
    "from pyspark.ml.classification import RandomForestClassifier"
   ]
  },
  {
   "cell_type": "markdown",
   "metadata": {},
   "source": [
    "## 10.1 LOGISTIC REGRESSION CLASSIFIER\n",
    "\n",
    "Parameters : maxIter = 50"
   ]
  },
  {
   "cell_type": "code",
   "execution_count": 42,
   "metadata": {},
   "outputs": [],
   "source": [
    "lr = LogisticRegression(featuresCol = 'features', labelCol = 'label', maxIter=50)\n",
    "lrModel = lr.fit(train)"
   ]
  },
  {
   "cell_type": "markdown",
   "metadata": {},
   "source": [
    "# 10.2 Making predictions on test data using the transform() method."
   ]
  },
  {
   "cell_type": "code",
   "execution_count": 43,
   "metadata": {},
   "outputs": [],
   "source": [
    "predictions = lrModel.transform(train)"
   ]
  },
  {
   "cell_type": "markdown",
   "metadata": {},
   "source": [
    "### 10.3 Precision-Recall & f1-Score"
   ]
  },
  {
   "cell_type": "code",
   "execution_count": 44,
   "metadata": {},
   "outputs": [
    {
     "name": "stdout",
     "output_type": "stream",
     "text": [
      "              precision    recall  f1-score   support\n",
      "\n",
      "         0.0       0.85      0.94      0.89     14760\n",
      "         1.0       0.55      0.30      0.39      3538\n",
      "\n",
      "    accuracy                           0.82     18298\n",
      "   macro avg       0.70      0.62      0.64     18298\n",
      "weighted avg       0.79      0.82      0.79     18298\n",
      "\n"
     ]
    }
   ],
   "source": [
    "true = [row['label'] for row in predictions.collect()]\n",
    "preds = [row['prediction'] for row in predictions.collect()]\n",
    "probs = [row['probability'][0] for row in predictions.collect()]\n",
    "\n",
    "print(classification_report(true, preds))"
   ]
  },
  {
   "cell_type": "code",
   "execution_count": 45,
   "metadata": {},
   "outputs": [
    {
     "name": "stdout",
     "output_type": "stream",
     "text": [
      "Test Area Under ROC curve:  0.8317928288454733\n"
     ]
    }
   ],
   "source": [
    "evaluator = BinaryClassificationEvaluator()\n",
    "print('Test Area Under ROC curve: ', evaluator.evaluate(predictions))"
   ]
  },
  {
   "cell_type": "code",
   "execution_count": 46,
   "metadata": {},
   "outputs": [
    {
     "name": "stdout",
     "output_type": "stream",
     "text": [
      "+----------------+-----+----+\n",
      "|label_prediction|  0.0| 1.0|\n",
      "+----------------+-----+----+\n",
      "|             1.0| 2480|1058|\n",
      "|             0.0|13895| 865|\n",
      "+----------------+-----+----+\n",
      "\n"
     ]
    }
   ],
   "source": [
    "predictions.crosstab(\"label\", \"prediction\").show()"
   ]
  },
  {
   "cell_type": "code",
   "execution_count": 47,
   "metadata": {},
   "outputs": [
    {
     "name": "stdout",
     "output_type": "stream",
     "text": [
      "Model accuracy: 82.339%\n"
     ]
    }
   ],
   "source": [
    "def accuracy_m(model): \n",
    "    predictions = model.transform(test)\n",
    "    cm = predictions.select(\"label\", \"prediction\")\n",
    "    acc = cm.filter(cm.label == cm.prediction).count() / cm.count()\n",
    "    print(\"Model accuracy: %.3f%%\" % (acc * 100)) \n",
    "accuracy_m(model = lrModel)"
   ]
  },
  {
   "cell_type": "code",
   "execution_count": 48,
   "metadata": {},
   "outputs": [
    {
     "data": {
      "image/png": "[encoded data removed]",
      "text/plain": [
       "<Figure size 432x288 with 1 Axes>"
      ]
     },
     "metadata": {
      "needs_background": "light"
     },
     "output_type": "display_data"
    }
   ],
   "source": [
    "# calculate the fpr and tpr for all thresholds of the classification\n",
    "fpr, tpr, threshold = metrics.roc_curve(true, preds)\n",
    "roc_auc = metrics.auc(fpr, tpr)\n",
    "\n",
    "# plot curve\n",
    "plt.title('Receiver Operating Characteristic')\n",
    "plt.plot(fpr, tpr, 'b', label = 'AUC = %0.2f' % roc_auc)\n",
    "plt.legend(loc = 'lower right')\n",
    "plt.plot([0, 1], [0, 1],'r--')\n",
    "plt.xlim([0, 1])\n",
    "plt.ylim([0, 1])\n",
    "plt.ylabel('True Positive Rate')\n",
    "plt.xlabel('False Positive Rate')\n",
    "plt.show()"
   ]
  },
  {
   "cell_type": "markdown",
   "metadata": {},
   "source": [
    "# 11. DECISION TREE CLASSIFIER"
   ]
  },
  {
   "cell_type": "code",
   "execution_count": 49,
   "metadata": {},
   "outputs": [
    {
     "name": "stdout",
     "output_type": "stream",
     "text": [
      "+-----+----------+--------------------+\n",
      "|label|prediction|         probability|\n",
      "+-----+----------+--------------------+\n",
      "|  1.0|       0.0|[0.91328270303781...|\n",
      "|  1.0|       0.0|[0.91328270303781...|\n",
      "|  1.0|       0.0|[0.91328270303781...|\n",
      "|  1.0|       0.0|[0.91328270303781...|\n",
      "|  1.0|       0.0|[0.91328270303781...|\n",
      "+-----+----------+--------------------+\n",
      "only showing top 5 rows\n",
      "\n"
     ]
    }
   ],
   "source": [
    "dt = DecisionTreeClassifier(featuresCol = 'features', labelCol = 'label', maxDepth = 3)\n",
    "dtModel = dt.fit(train)\n",
    "\n",
    "predictions = dtModel.transform(train)\n",
    "predictions.select('label', 'prediction', 'probability').show(5)"
   ]
  },
  {
   "cell_type": "code",
   "execution_count": 50,
   "metadata": {},
   "outputs": [
    {
     "name": "stdout",
     "output_type": "stream",
     "text": [
      "Test Area Under ROC curve for DT classifier :  0.26650631892836735\n"
     ]
    }
   ],
   "source": [
    "evaluator = BinaryClassificationEvaluator()\n",
    "print('Test Area Under ROC curve for DT classifier : ', evaluator.evaluate(predictions))"
   ]
  },
  {
   "cell_type": "markdown",
   "metadata": {},
   "source": [
    "### 11.1. Confusion matrix for Decision tree classifier model"
   ]
  },
  {
   "cell_type": "code",
   "execution_count": 51,
   "metadata": {},
   "outputs": [
    {
     "name": "stdout",
     "output_type": "stream",
     "text": [
      "+----------------+-----+---+\n",
      "|label_prediction|  0.0|1.0|\n",
      "+----------------+-----+---+\n",
      "|             1.0| 2568|970|\n",
      "|             0.0|14002|758|\n",
      "+----------------+-----+---+\n",
      "\n"
     ]
    }
   ],
   "source": [
    "predictions.crosstab(\"label\", \"prediction\").show()"
   ]
  },
  {
   "cell_type": "code",
   "execution_count": 52,
   "metadata": {},
   "outputs": [
    {
     "name": "stdout",
     "output_type": "stream",
     "text": [
      "Model accuracy for DT classifier: 82.097%\n"
     ]
    }
   ],
   "source": [
    "def accuracy_m(model): \n",
    "    predictions = model.transform(test)\n",
    "    cm = predictions.select(\"label\", \"prediction\")\n",
    "    acc = cm.filter(cm.label == cm.prediction).count() / cm.count()\n",
    "    print(\"Model accuracy for DT classifier: %.3f%%\" % (acc * 100)) \n",
    "accuracy_m(model = dtModel)"
   ]
  },
  {
   "cell_type": "markdown",
   "metadata": {},
   "source": [
    "### 11.2. Precision-Recall & f1-Score"
   ]
  },
  {
   "cell_type": "code",
   "execution_count": 53,
   "metadata": {
    "scrolled": true
   },
   "outputs": [
    {
     "name": "stdout",
     "output_type": "stream",
     "text": [
      "              precision    recall  f1-score   support\n",
      "\n",
      "         0.0       0.85      0.95      0.89     14760\n",
      "         1.0       0.56      0.27      0.37      3538\n",
      "\n",
      "    accuracy                           0.82     18298\n",
      "   macro avg       0.70      0.61      0.63     18298\n",
      "weighted avg       0.79      0.82      0.79     18298\n",
      "\n"
     ]
    }
   ],
   "source": [
    "true = [row['label'] for row in predictions.collect()]\n",
    "preds = [row['prediction'] for row in predictions.collect()]\n",
    "probs = [row['probability'][0] for row in predictions.collect()]\n",
    "\n",
    "print(classification_report(true, preds))"
   ]
  },
  {
   "cell_type": "markdown",
   "metadata": {},
   "source": [
    "### 11.3.  AUC-ROC Plot"
   ]
  },
  {
   "cell_type": "code",
   "execution_count": 54,
   "metadata": {},
   "outputs": [
    {
     "data": {
      "image/png": "[encoded data removed]",
      "text/plain": [
       "<Figure size 432x288 with 1 Axes>"
      ]
     },
     "metadata": {
      "needs_background": "light"
     },
     "output_type": "display_data"
    }
   ],
   "source": [
    "# calculate the fpr and tpr for all thresholds of the classification\n",
    "fpr, tpr, threshold = metrics.roc_curve(true, preds)\n",
    "roc_auc = metrics.auc(fpr, tpr)\n",
    "\n",
    "# plot curve\n",
    "plt.title('Receiver Operating Characteristic')\n",
    "plt.plot(fpr, tpr, 'b', label = 'AUC = %0.2f' % roc_auc)\n",
    "plt.legend(loc = 'lower right')\n",
    "plt.plot([0, 1], [0, 1],'r--')\n",
    "plt.xlim([0, 1])\n",
    "plt.ylim([0, 1])\n",
    "plt.ylabel('True Positive Rate')\n",
    "plt.xlabel('False Positive Rate')\n",
    "plt.show()"
   ]
  },
  {
   "cell_type": "markdown",
   "metadata": {},
   "source": [
    "# 12. ENSEMBLE OF DECISION TREES : RANDOM FOREST CLASSIFIER"
   ]
  },
  {
   "cell_type": "code",
   "execution_count": 55,
   "metadata": {},
   "outputs": [
    {
     "name": "stdout",
     "output_type": "stream",
     "text": [
      "+-----+----------+--------------------+\n",
      "|label|prediction|         probability|\n",
      "+-----+----------+--------------------+\n",
      "|  1.0|       0.0|[0.89480516090983...|\n",
      "|  1.0|       0.0|[0.89480516090983...|\n",
      "|  1.0|       0.0|[0.89480516090983...|\n",
      "|  1.0|       0.0|[0.89480516090983...|\n",
      "|  1.0|       0.0|[0.90848398551416...|\n",
      "|  1.0|       0.0|[0.90848398551416...|\n",
      "|  1.0|       0.0|[0.90848398551416...|\n",
      "|  1.0|       0.0|[0.89480516090983...|\n",
      "|  1.0|       0.0|[0.89480516090983...|\n",
      "|  1.0|       0.0|[0.89480516090983...|\n",
      "+-----+----------+--------------------+\n",
      "only showing top 10 rows\n",
      "\n"
     ]
    }
   ],
   "source": [
    "rf = RandomForestClassifier(featuresCol = 'features', labelCol = 'label', numTrees=5)\n",
    "rfModel = rf.fit(train)\n",
    "predictions = rfModel.transform(train)\n",
    "predictions.select('label','prediction', 'probability').show(10)"
   ]
  },
  {
   "cell_type": "code",
   "execution_count": 56,
   "metadata": {},
   "outputs": [
    {
     "name": "stdout",
     "output_type": "stream",
     "text": [
      "Test Area Under ROC curve for RF classifier :  0.7876350226193047\n"
     ]
    }
   ],
   "source": [
    "evaluator = BinaryClassificationEvaluator()\n",
    "print('Test Area Under ROC curve for RF classifier : ', evaluator.evaluate(predictions))"
   ]
  },
  {
   "cell_type": "code",
   "execution_count": 57,
   "metadata": {},
   "outputs": [],
   "source": [
    "true = [row['label'] for row in predictions.collect()]\n",
    "preds = [row['prediction'] for row in predictions.collect()]"
   ]
  },
  {
   "cell_type": "code",
   "execution_count": 58,
   "metadata": {},
   "outputs": [
    {
     "name": "stdout",
     "output_type": "stream",
     "text": [
      "              precision    recall  f1-score   support\n",
      "\n",
      "         0.0       0.83      0.97      0.90     14760\n",
      "         1.0       0.61      0.16      0.26      3538\n",
      "\n",
      "    accuracy                           0.82     18298\n",
      "   macro avg       0.72      0.57      0.58     18298\n",
      "weighted avg       0.79      0.82      0.77     18298\n",
      "\n"
     ]
    }
   ],
   "source": [
    "print(classification_report(true, preds))"
   ]
  },
  {
   "cell_type": "markdown",
   "metadata": {},
   "source": [
    "### 12.1. Confusion matrix for random forest classifier model"
   ]
  },
  {
   "cell_type": "code",
   "execution_count": 59,
   "metadata": {},
   "outputs": [
    {
     "name": "stdout",
     "output_type": "stream",
     "text": [
      "+----------------+-----+---+\n",
      "|label_prediction|  0.0|1.0|\n",
      "+----------------+-----+---+\n",
      "|             1.0| 2957|581|\n",
      "|             0.0|14389|371|\n",
      "+----------------+-----+---+\n",
      "\n"
     ]
    }
   ],
   "source": [
    "predictions.crosstab(\"label\", \"prediction\").show()"
   ]
  },
  {
   "cell_type": "code",
   "execution_count": 60,
   "metadata": {},
   "outputs": [
    {
     "name": "stdout",
     "output_type": "stream",
     "text": [
      "Model accuracy for RF classifier: 82.250%\n"
     ]
    }
   ],
   "source": [
    "def accuracy_m(model): \n",
    "    predictions = model.transform(test)\n",
    "    cm = predictions.select(\"label\", \"prediction\")\n",
    "    acc = cm.filter(cm.label == cm.prediction).count() / cm.count()\n",
    "    print(\"Model accuracy for RF classifier: %.3f%%\" % (acc * 100)) \n",
    "accuracy_m(model = rfModel)"
   ]
  },
  {
   "cell_type": "code",
   "execution_count": 61,
   "metadata": {},
   "outputs": [
    {
     "data": {
      "image/png": "[encoded data removed]",
      "text/plain": [
       "<Figure size 432x288 with 1 Axes>"
      ]
     },
     "metadata": {
      "needs_background": "light"
     },
     "output_type": "display_data"
    }
   ],
   "source": [
    "# calculate the fpr and tpr for all thresholds of the classification\n",
    "fpr, tpr, threshold = metrics.roc_curve(true, preds)\n",
    "roc_auc = metrics.auc(fpr, tpr)\n",
    "\n",
    "# plot curve\n",
    "plt.title('Receiver Operating Characteristic')\n",
    "plt.plot(fpr, tpr, 'b', label = 'AUC = %0.2f' % roc_auc)\n",
    "plt.legend(loc = 'lower right')\n",
    "plt.plot([0, 1], [0, 1],'r--')\n",
    "plt.xlim([0, 1])\n",
    "plt.ylim([0, 1])\n",
    "plt.ylabel('True Positive Rate')\n",
    "plt.xlabel('False Positive Rate')\n",
    "plt.show()"
   ]
  }
 ],
 "metadata": {
  "kernelspec": {
   "display_name": "Python 3",
   "language": "python",
   "name": "python3"
  },
  "language_info": {
   "codemirror_mode": {
    "name": "ipython",
    "version": 3
   },
   "file_extension": ".py",
   "mimetype": "text/x-python",
   "name": "python",
   "nbconvert_exporter": "python",
   "pygments_lexer": "ipython3",
   "version": "3.7.6"
  }
 },
 "nbformat": 4,
 "nbformat_minor": 4
}
